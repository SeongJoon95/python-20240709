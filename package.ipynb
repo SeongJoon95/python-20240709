{
 "cells": [
  {
   "cell_type": "markdown",
   "metadata": {},
   "source": [
    "### 외장 패키지 (라이브러리)\n",
    "외장 패키지를 설치를 하기위해서는 pip로 패키지를 설치해야함\n",
    "```bash\n",
    "pip install 패키지명\n",
    "pip install scikit-learn\n",
    "```\n",
    "설치한 패키지를 해당 파일에서 사용하고자 한다면 먼저 임포트가\n",
    "필요\n",
    "```python\n",
    "import 패키지명\n",
    "import 패키지명 as 별명\n",
    "```"
   ]
  }
 ],
 "metadata": {
  "language_info": {
   "name": "python"
  }
 },
 "nbformat": 4,
 "nbformat_minor": 2
}
